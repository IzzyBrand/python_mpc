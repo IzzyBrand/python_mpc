{
 "cells": [
  {
   "cell_type": "code",
   "execution_count": 1,
   "metadata": {},
   "outputs": [],
   "source": [
    "# import numpy as np\n",
    "import sympy\n",
    "from sympy import *\n",
    "\n",
    "init_printing()"
   ]
  },
  {
   "cell_type": "code",
   "execution_count": 2,
   "metadata": {},
   "outputs": [],
   "source": [
    "x = Matrix(symbols('x0:6'))\n",
    "u = Matrix(symbols('x0:2'))\n",
    "t = symbols('t')\n",
    "\n",
    "m = 1\n",
    "l = -1\n",
    "g = 9.8\n",
    "I = 1"
   ]
  },
  {
   "cell_type": "code",
   "execution_count": 3,
   "metadata": {},
   "outputs": [],
   "source": [
    "def f(x, u, t):\n",
    "#     _, _, theta, xdot, ydot, thetadot = x\n",
    "#     T, v = u\n",
    "    \n",
    "    xddot     = 1/m * (-sin(x[2] + u[1]) * u[0])\n",
    "    yddot     = 1/m * (cos(x[2] + u[1]) * u[0]) - g\n",
    "    thetaddot = 1/I * (sin(u[1]) * u[0] * l)\n",
    "\n",
    "    return [x[3], x[4], x[5], xddot, yddot, thetaddot]"
   ]
  },
  {
   "cell_type": "code",
   "execution_count": 4,
   "metadata": {},
   "outputs": [],
   "source": [
    "dx = Matrix(f(x,u,0))"
   ]
  },
  {
   "cell_type": "code",
   "execution_count": 5,
   "metadata": {},
   "outputs": [],
   "source": [
    "sym_dfdx = dx.jacobian(x)\n",
    "sym_dfdu = dx.jacobian(u)"
   ]
  },
  {
   "cell_type": "code",
   "execution_count": 19,
   "metadata": {},
   "outputs": [],
   "source": [
    "dfdx = lambdify((x, u, t), sym_dfdx, modules='sympy')"
   ]
  },
  {
   "cell_type": "code",
   "execution_count": 20,
   "metadata": {},
   "outputs": [
    {
     "data": {
      "image/png": "[encoded data removed]",
      "text/latex": [
       "$$\\left[\\begin{matrix}0 & 0 & 0 & 1 & 0 & 0\\\\0 & 0 & 0 & 0 & 1 & 0\\\\0 & 0 & 0 & 0 & 0 & 1\\\\- 1.0 \\sin{\\left (x_{1} + x_{2} \\right )} & - 1.0 x_{0} \\cos{\\left (x_{1} + x_{2} \\right )} & - 1.0 x_{0} \\cos{\\left (x_{1} + x_{2} \\right )} & 0 & 0 & 0\\\\1.0 \\cos{\\left (x_{1} + x_{2} \\right )} & - 1.0 x_{0} \\sin{\\left (x_{1} + x_{2} \\right )} & - 1.0 x_{0} \\sin{\\left (x_{1} + x_{2} \\right )} & 0 & 0 & 0\\\\- 1.0 \\sin{\\left (x_{1} \\right )} & - 1.0 x_{0} \\cos{\\left (x_{1} \\right )} & 0 & 0 & 0 & 0\\end{matrix}\\right]$$"
      ],
      "text/plain": [
       "⎡        0                   0                     0            1  0  0⎤\n",
       "⎢                                                                      ⎥\n",
       "⎢        0                   0                     0            0  1  0⎥\n",
       "⎢                                                                      ⎥\n",
       "⎢        0                   0                     0            0  0  1⎥\n",
       "⎢                                                                      ⎥\n",
       "⎢-1.0⋅sin(x₁ + x₂)  -1.0⋅x₀⋅cos(x₁ + x₂)  -1.0⋅x₀⋅cos(x₁ + x₂)  0  0  0⎥\n",
       "⎢                                                                      ⎥\n",
       "⎢1.0⋅cos(x₁ + x₂)   -1.0⋅x₀⋅sin(x₁ + x₂)  -1.0⋅x₀⋅sin(x₁ + x₂)  0  0  0⎥\n",
       "⎢                                                                      ⎥\n",
       "⎣  -1.0⋅sin(x₁)       -1.0⋅x₀⋅cos(x₁)              0            0  0  0⎦"
      ]
     },
     "execution_count": 20,
     "metadata": {},
     "output_type": "execute_result"
    }
   ],
   "source": [
    "dfdx(x,u,t)"
   ]
  },
  {
   "cell_type": "code",
   "execution_count": 23,
   "metadata": {},
   "outputs": [
    {
     "name": "stdout",
     "output_type": "stream",
     "text": [
      "0.0010890960693359375\n"
     ]
    }
   ],
   "source": [
    "from tictoc import tic,toc\n",
    "tic()\n",
    "dfdx(np.zeros(6),np.zeros(2),0)\n",
    "toc()"
   ]
  },
  {
   "cell_type": "code",
   "execution_count": 26,
   "metadata": {},
   "outputs": [
    {
     "data": {
      "image/png": "[encoded data removed]",
      "text/latex": [
       "$$\\left[\\begin{matrix}0\\\\0\\\\0\\\\0\\\\0\\\\0\\end{matrix}\\right]$$"
      ],
      "text/plain": [
       "⎡0⎤\n",
       "⎢ ⎥\n",
       "⎢0⎥\n",
       "⎢ ⎥\n",
       "⎢0⎥\n",
       "⎢ ⎥\n",
       "⎢0⎥\n",
       "⎢ ⎥\n",
       "⎢0⎥\n",
       "⎢ ⎥\n",
       "⎣0⎦"
      ]
     },
     "execution_count": 26,
     "metadata": {},
     "output_type": "execute_result"
    }
   ],
   "source": [
    "diff(t,x)"
   ]
  },
  {
   "cell_type": "code",
   "execution_count": 38,
   "metadata": {},
   "outputs": [],
   "source": [
    "# test = Matrix([x[0] + x[1], sin(u[0]) + cos(u[1])])\n",
    "test = x[0]**2 + x[1]**2\n",
    "test_lambda = lambdify(x, test)"
   ]
  },
  {
   "cell_type": "code",
   "execution_count": 43,
   "metadata": {},
   "outputs": [
    {
     "data": {
      "image/png": "[encoded data removed]",
      "text/latex": [
       "$$2.0$$"
      ],
      "text/plain": [
       "2.0"
      ]
     },
     "execution_count": 43,
     "metadata": {},
     "output_type": "execute_result"
    }
   ],
   "source": [
    "test_lambda(*np.ones(6))\n"
   ]
  },
  {
   "cell_type": "code",
   "execution_count": 44,
   "metadata": {},
   "outputs": [
    {
     "data": {
      "image/png": "[encoded data removed]",
      "text/latex": [
       "$$\\left[\\begin{matrix}2 x_{0}\\\\2 x_{1}\\\\0\\\\0\\\\0\\\\0\\end{matrix}\\right]$$"
      ],
      "text/plain": [
       "⎡2⋅x₀⎤\n",
       "⎢    ⎥\n",
       "⎢2⋅x₁⎥\n",
       "⎢    ⎥\n",
       "⎢ 0  ⎥\n",
       "⎢    ⎥\n",
       "⎢ 0  ⎥\n",
       "⎢    ⎥\n",
       "⎢ 0  ⎥\n",
       "⎢    ⎥\n",
       "⎣ 0  ⎦"
      ]
     },
     "execution_count": 44,
     "metadata": {},
     "output_type": "execute_result"
    }
   ],
   "source": [
    "test.diff(x)"
   ]
  },
  {
   "cell_type": "code",
   "execution_count": 48,
   "metadata": {},
   "outputs": [
    {
     "data": {
      "image/png": "[encoded data removed]",
      "text/latex": [
       "$$0$$"
      ],
      "text/plain": [
       "0"
      ]
     },
     "execution_count": 48,
     "metadata": {},
     "output_type": "execute_result"
    }
   ],
   "source": [
    "sympy.Heaviside(-1)"
   ]
  },
  {
   "cell_type": "code",
   "execution_count": null,
   "metadata": {},
   "outputs": [],
   "source": []
  }
 ],
 "metadata": {
  "kernelspec": {
   "display_name": "Python 3",
   "language": "python",
   "name": "python3"
  },
  "language_info": {
   "codemirror_mode": {
    "name": "ipython",
    "version": 3
   },
   "file_extension": ".py",
   "mimetype": "text/x-python",
   "name": "python",
   "nbconvert_exporter": "python",
   "pygments_lexer": "ipython3",
   "version": "3.7.3"
  }
 },
 "nbformat": 4,
 "nbformat_minor": 2
}
